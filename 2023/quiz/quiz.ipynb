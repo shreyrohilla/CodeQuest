{
 "cells": [
  {
   "attachments": {},
   "cell_type": "markdown",
   "metadata": {},
   "source": [
    "There's a bunch of times you need to print the larger two numbers"
   ]
  },
  {
   "cell_type": "code",
   "execution_count": 4,
   "metadata": {},
   "outputs": [
    {
     "name": "stdout",
     "output_type": "stream",
     "text": [
      "num1 :6\n",
      "num2 :8\n"
     ]
    }
   ],
   "source": [
    "import random\n",
    "num1 = random.randint(1, 10)\n",
    "num2 = random.randint(1, 10)\n",
    "while num1 == num2:\n",
    "    num2 = random.randint(1, 10)\n",
    "print(f'num1 :{num1}')\n",
    "print(f'num2 :{num2}')\n",
    "#write a line of code here that will print the larger of num1 and num2\n",
    "if num1 > num2:\n",
    "    print (num1)\n",
    "if num2 > num1:\n",
    "    print (num2)"
   ]
  },
  {
   "cell_type": "markdown",
   "metadata": {},
   "source": []
  },
  {
   "attachments": {},
   "cell_type": "markdown",
   "metadata": {},
   "source": [
    "print the number rounded down. and the number rounded up\n"
   ]
  },
  {
   "cell_type": "code",
   "execution_count": 43,
   "metadata": {},
   "outputs": [
    {
     "name": "stdout",
     "output_type": "stream",
     "text": [
      "12.285714285714286\n"
     ]
    }
   ],
   "source": [
    "import random \n",
    "num1 = random.randint(10, 100)    \n",
    "while num1 % 7 == 0:\n",
    "    num1 = random.randint(10, 100)\n",
    "fraction=num1/7\n",
    "print(fraction)\n",
    "#print fraction rounded up\n",
    "#print fraction rounded down"
   ]
  },
  {
   "attachments": {},
   "cell_type": "markdown",
   "metadata": {},
   "source": [
    "add a statment to the for loop to keep track of the sum.\n",
    "after the sum print the average of the list to the nearest ones place"
   ]
  },
  {
   "cell_type": "code",
   "execution_count": 2,
   "metadata": {},
   "outputs": [
    {
     "name": "stdout",
     "output_type": "stream",
     "text": [
      "[1, 1, 10, 5, 8, 2, 5, 3, 10, 2]\n"
     ]
    }
   ],
   "source": [
    "import random\n",
    "array=[]\n",
    "random_num = random.randint(2, 10)\n",
    "for i in range(random_num):\n",
    "    array.append(random.randint(1, 10))\n",
    "print(array)\n",
    "#write a line of code here that will print the average of the numbers in the array as an integer"
   ]
  },
  {
   "attachments": {},
   "cell_type": "markdown",
   "metadata": {},
   "source": [
    "Here's a string. are you comfortable with strings to do all the tasks?"
   ]
  },
  {
   "cell_type": "code",
   "execution_count": null,
   "metadata": {},
   "outputs": [],
   "source": [
    "\n",
    "sentence = \"    The quick brown fox JUMPS over the lazy dog    \"\n",
    "#write a line of code that saves the sentence without the leading and trailing spaces in a variable called trimmed_sentence\n",
    "\n",
    "#write a line of code that saves the sentence in all uppercase in a variable called upper_sentence\n",
    "\n",
    "#write a line of code that saves the sentence in all lowercase in a variable called lower_sentence\n",
    "\n",
    "#print the first 4 letters of the sentence\n",
    "\n",
    "#print every other word of the sentence\n",
    "\n",
    "#write a line of code here that will print the number of words in the sentence\n",
    "\n",
    "#write a line of code here that will print the number of letters in the sentence\n",
    "\n",
    "\n",
    "\n"
   ]
  },
  {
   "attachments": {},
   "cell_type": "markdown",
   "metadata": {},
   "source": [
    "Here your going to take a word from a list and count the number of letters in it. it can be done in a loop or by manipulating the print statment. Do you know how to do it both ways?"
   ]
  },
  {
   "cell_type": "code",
   "execution_count": null,
   "metadata": {},
   "outputs": [],
   "source": [
    "import random\n",
    "index=random.randint(0, 8)\n",
    "arrays=['The','quick','brown','fox','jumps','over','the','lazy','dog']\n",
    "# count the letters in index word\n",
    "print('f{ arrays[index]} has ____ letters')"
   ]
  },
  {
   "attachments": {},
   "cell_type": "markdown",
   "metadata": {},
   "source": [
    "thhis is a oneliner. concanate word so that it's two words seperated by a colon."
   ]
  },
  {
   "cell_type": "code",
   "execution_count": 5,
   "metadata": {},
   "outputs": [],
   "source": [
    "import random\n",
    "index=random.randint(0, 8)\n",
    "index2=random.randint(0, 8)\n",
    "while index == index2:\n",
    "    index2=random.randint(0, 8)\n",
    "arrays=['The','quick','brown','fox','jumps','over','the','lazy','dog']\n",
    "\n",
    "# write a line of code that puts the word from index and index2 into a single string named word seperated by a colon\n",
    "word=''"
   ]
  },
  {
   "attachments": {},
   "cell_type": "markdown",
   "metadata": {},
   "source": [
    "\n",
    "Im going to give you a string of random size named string\n",
    "i want you to create a new for loop to count the number of positive integers. To create the loop you'll read convert string into a list and create a for loop the size of that list. then using conditional statments you'll find the sum of only the poisitive integers. Then find the average of only the positive integers.\n",
    "\n",
    "Goals:\n",
    "Know how to convert strings to lists\n",
    "Use conditional statments\n",
    "Use floats and formatted prints"
   ]
  },
  {
   "cell_type": "code",
   "execution_count": 27,
   "metadata": {},
   "outputs": [
    {
     "name": "stdout",
     "output_type": "stream",
     "text": [
      " 9 10 -1 14 -8 -2 8 6 16 2 20 10 -7 -9 -2 6 0 -1 -4 1\n"
     ]
    }
   ],
   "source": [
    "import random\n",
    "index=random.randint(5, 20)\n",
    "string= ''\n",
    "positive_ints=0\n",
    "for i in range(index):\n",
    "    string+=str(f' {random.randint(-10, 20)}')\n",
    "    #write a line of code that will count the number of positive integers in the string\n",
    "\n",
    "#print the number of positive integers after the loop\n",
    "\n",
    "#make a new for loop that dosen't use the variable index to find the sum of the positive integers in the string\n",
    "\n",
    "#after the loop print the average of the positive integers to a percision of 2 decimal places\n",
    "\n",
    "print(string)\n"
   ]
  },
  {
   "attachments": {},
   "cell_type": "markdown",
   "metadata": {},
   "source": [
    "for the next part i create a random number for you between 10,000 and 100,000\n",
    "use a while loop to find out how many times we need to reduce the number by 42% before the number is less than 500\n",
    "\n",
    "\n",
    "The goal is to show you can use a while loop with some basic math."
   ]
  },
  {
   "cell_type": "code",
   "execution_count": null,
   "metadata": {},
   "outputs": [],
   "source": [
    "import random\n",
    "number = random.randint(10000, 100000)\n",
    "count = 0\n",
    "#while....\n",
    "    #increment count\n",
    "#print count"
   ]
  }
 ],
 "metadata": {
  "kernelspec": {
   "display_name": "Python 3",
   "language": "python",
   "name": "python3"
  },
  "language_info": {
   "codemirror_mode": {
    "name": "ipython",
    "version": 3
   },
   "file_extension": ".py",
   "mimetype": "text/x-python",
   "name": "python",
   "nbconvert_exporter": "python",
   "pygments_lexer": "ipython3",
   "version": "3.10.11"
  },
  "orig_nbformat": 4
 },
 "nbformat": 4,
 "nbformat_minor": 2
}
